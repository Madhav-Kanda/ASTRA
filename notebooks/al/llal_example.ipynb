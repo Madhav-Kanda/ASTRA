{
 "cells": [
  {
   "cell_type": "code",
   "execution_count": 1,
   "metadata": {},
   "outputs": [],
   "source": [
    "import os\n",
    "\n",
    "os.environ[\"CUDA_VISIBLE_DEVICES\"] = \"3\"\n",
    "\n",
    "import numpy as np\n",
    "\n",
    "import torch\n",
    "import torch.nn as nn\n",
    "from torch.utils.data import DataLoader, TensorDataset\n",
    "\n",
    "from torchvision.datasets import CIFAR10\n",
    "from torchvision.transforms import Normalize, Resize, Compose, CenterCrop, InterpolationMode\n",
    "from torchvision.models import efficientnet_b0, EfficientNet_B0_Weights\n",
    "from astra.torch.models import EfficientNet, CNN, AstraModel, Backbone, Module, LearningToLoss\n",
    "import torch.nn.functional as F\n",
    "from astra.torch.al import RandomAcquisition, RandomStrategy\n",
    "from astra.torch.utils import train_fn\n",
    "\n",
    "from sklearn.metrics import accuracy_score\n",
    "\n",
    "import matplotlib.pyplot as plt\n",
    "\n",
    "device = \"cpu\"\n"
   ]
  },
  {
   "cell_type": "code",
   "execution_count": 2,
   "metadata": {},
   "outputs": [],
   "source": [
    "eff_transform = EfficientNet_B0_Weights.DEFAULT.transforms()"
   ]
  },
  {
   "cell_type": "markdown",
   "metadata": {},
   "source": [
    "## Prepare the dataset"
   ]
  },
  {
   "cell_type": "code",
   "execution_count": 3,
   "metadata": {},
   "outputs": [
    {
     "name": "stdout",
     "output_type": "stream",
     "text": [
      "Files already downloaded and verified\n",
      "Files already downloaded and verified\n",
      "torch.Size([50000, 3, 32, 32]) <built-in method type of Tensor object at 0x146b6ee10>\n",
      "torch.Size([50000]) <built-in method type of Tensor object at 0x146b6c050>\n"
     ]
    }
   ],
   "source": [
    "train_data = CIFAR10(root=\"./data\", train=True, download=True)\n",
    "test_data = CIFAR10(root=\"./data\", train=False, download=True)\n",
    "\n",
    "train_inputs = torch.tensor(train_data.data).permute(0, 3, 1, 2).float() / 255\n",
    "train_outputs = torch.tensor(train_data.targets).long()\n",
    "\n",
    "test_inputs = torch.tensor(test_data.data).permute(0, 3, 1, 2).float() / 255\n",
    "test_outputs = torch.tensor(test_data.targets).long()\n",
    "\n",
    "print(train_inputs.shape, train_inputs.type)\n",
    "print(train_outputs.shape, train_outputs.type)"
   ]
  },
  {
   "cell_type": "markdown",
   "metadata": {},
   "source": [
    "## Divide into train, test and pool"
   ]
  },
  {
   "cell_type": "code",
   "execution_count": 4,
   "metadata": {},
   "outputs": [
    {
     "name": "stdout",
     "output_type": "stream",
     "text": [
      "100 49900 10000\n"
     ]
    }
   ],
   "source": [
    "train_size = 100\n",
    "\n",
    "idx = torch.randperm(len(train_inputs))\n",
    "train_indices = idx[:train_size]\n",
    "pool_indices = idx[train_size:]\n",
    "test_indices = torch.arange(len(test_inputs))\n",
    "print(len(train_indices), len(pool_indices), len(test_indices))"
   ]
  },
  {
   "cell_type": "markdown",
   "metadata": {},
   "source": [
    "## Test the baselines"
   ]
  },
  {
   "cell_type": "markdown",
   "metadata": {},
   "source": [
    "### Fitted on initial train"
   ]
  },
  {
   "cell_type": "code",
   "execution_count": 5,
   "metadata": {},
   "outputs": [],
   "source": [
    "class BasicBlock(AstraModel):\n",
    "    expansion = 1\n",
    "\n",
    "    def __init__(self, in_planes, planes, stride=1):\n",
    "        super(BasicBlock, self).__init__()\n",
    "        self.conv1 = nn.Conv2d(in_planes, planes, kernel_size=3, stride=stride, padding=1, bias=False)\n",
    "        self.bn1 = nn.BatchNorm2d(planes)\n",
    "        self.conv2 = nn.Conv2d(planes, planes, kernel_size=3, stride=1, padding=1, bias=False)\n",
    "        self.bn2 = nn.BatchNorm2d(planes)\n",
    "\n",
    "        self.shortcut = nn.Sequential()\n",
    "        if stride != 1 or in_planes != self.expansion*planes:\n",
    "            self.shortcut = nn.Sequential(\n",
    "                nn.Conv2d(in_planes, self.expansion*planes, kernel_size=1, stride=stride, bias=False),\n",
    "                nn.BatchNorm2d(self.expansion*planes)\n",
    "            )\n",
    "\n",
    "    def forward(self, x):\n",
    "        out = F.relu(self.bn1(self.conv1(x)))\n",
    "        out = self.bn2(self.conv2(out))\n",
    "        out += self.shortcut(x)\n",
    "        out = F.relu(out)\n",
    "        return out\n",
    "    \n",
    "class ResNet(AstraModel):\n",
    "    def __init__(self, block, num_blocks, num_classes=10):\n",
    "        super(ResNet, self).__init__()\n",
    "        self.in_planes = 64\n",
    "        self.initial = self.init_layer()\n",
    "        self.layer1 = self._make_layer(block, 64, num_blocks[0], stride=1)\n",
    "        self.layer2 = self._make_layer(block, 128, num_blocks[1], stride=2)\n",
    "        self.layer3 = self._make_layer(block, 256, num_blocks[2], stride=2)\n",
    "        self.layer4 = self._make_layer(block, 512, num_blocks[3], stride=2)\n",
    "        self.final = self.final_layer(num_classes=num_classes)\n",
    "\n",
    "    def final_layer(self, num_classes=10):\n",
    "        layers = []\n",
    "        layers.append(nn.AvgPool2d(4))\n",
    "        layers.append(nn.Flatten())\n",
    "        layers.append(nn.Linear(512*BasicBlock.expansion, num_classes))\n",
    "        return nn.Sequential(*layers)\n",
    "\n",
    "    def init_layer(self):\n",
    "        layers = []\n",
    "        layers.append(nn.Conv2d(3, 64, kernel_size=3, stride=1, padding=1, bias=False))\n",
    "        layers.append(nn.BatchNorm2d(64))\n",
    "        layers.append(nn.ReLU(inplace=True))\n",
    "        return nn.Sequential(*layers)\n",
    "    \n",
    "    def _make_layer(self, block, planes, num_blocks, stride):\n",
    "        strides = [stride] + [1]*(num_blocks-1)\n",
    "        layers = []\n",
    "        for stride in strides:\n",
    "            layers.append(block(self.in_planes, planes, stride))\n",
    "            self.in_planes = planes * block.expansion\n",
    "        return nn.Sequential(*layers)"
   ]
  },
  {
   "cell_type": "code",
   "execution_count": 6,
   "metadata": {},
   "outputs": [],
   "source": [
    "class LossNet(AstraModel):\n",
    "    def __init__(self, interim_dim=128):\n",
    "        super(LossNet, self).__init__()\n",
    "        self.interim_dim = interim_dim\n",
    "\n",
    "    def forward(self, x):\n",
    "        outputs = []\n",
    "        for i in range(len(x)):\n",
    "            feature_size = x[i].shape[2]\n",
    "            num_channel = x[i].shape[1]\n",
    "            out = F.avg_pool2d(x[i], feature_size)\n",
    "            out = out.view(out.size(0), -1)\n",
    "            out = F.relu(nn.Linear(num_channel, self.interim_dim)(out))\n",
    "            outputs.append(out)\n",
    "        outputs = torch.cat(outputs, 1)\n",
    "        out = nn.Flatten()(nn.Linear(4 * self.interim_dim, 1)(outputs))\n",
    "        return out     "
   ]
  },
  {
   "cell_type": "code",
   "execution_count": 7,
   "metadata": {},
   "outputs": [],
   "source": [
    "def ResNet18():\n",
    "    return ResNet(BasicBlock, [2,2,2,2])\n",
    "\n",
    "LossNet = LossNet(128)\n",
    "\n",
    "backbone_model = Backbone(ResNet18())\n",
    "module_model = Module(LossNet)\n",
    "\n",
    "model = LearningToLoss(backbone_model, module_model)"
   ]
  },
  {
   "cell_type": "code",
   "execution_count": 8,
   "metadata": {},
   "outputs": [
    {
     "name": "stderr",
     "output_type": "stream",
     "text": [
      "  0%|          | 0/4 [00:00<?, ?it/s]"
     ]
    },
    {
     "name": "stderr",
     "output_type": "stream",
     "text": [
      "Loss: 4.020326: 100%|██████████| 4/4 [00:03<00:00,  1.10it/s] \n"
     ]
    },
    {
     "name": "stdout",
     "output_type": "stream",
     "text": [
      "Epoch 1: 18.908589172363282\n"
     ]
    },
    {
     "name": "stderr",
     "output_type": "stream",
     "text": [
      "Loss: 4.013383: 100%|██████████| 4/4 [00:03<00:00,  1.31it/s] \n"
     ]
    },
    {
     "name": "stdout",
     "output_type": "stream",
     "text": [
      "Epoch 2: 18.27206756591797\n"
     ]
    },
    {
     "name": "stderr",
     "output_type": "stream",
     "text": [
      "Loss: 3.534428: 100%|██████████| 4/4 [00:03<00:00,  1.33it/s] \n"
     ]
    },
    {
     "name": "stdout",
     "output_type": "stream",
     "text": [
      "Epoch 3: 17.880996856689453\n"
     ]
    },
    {
     "name": "stderr",
     "output_type": "stream",
     "text": [
      "Loss: 3.521517: 100%|██████████| 4/4 [00:03<00:00,  1.33it/s] \n"
     ]
    },
    {
     "name": "stdout",
     "output_type": "stream",
     "text": [
      "Epoch 4: 17.604866943359376\n"
     ]
    },
    {
     "name": "stderr",
     "output_type": "stream",
     "text": [
      "Loss: 3.487186: 100%|██████████| 4/4 [00:03<00:00,  1.31it/s] \n"
     ]
    },
    {
     "name": "stdout",
     "output_type": "stream",
     "text": [
      "Epoch 5: 17.257546920776367\n"
     ]
    },
    {
     "name": "stderr",
     "output_type": "stream",
     "text": [
      "Loss: 3.807532: 100%|██████████| 4/4 [00:03<00:00,  1.30it/s] \n"
     ]
    },
    {
     "name": "stdout",
     "output_type": "stream",
     "text": [
      "Epoch 6: 17.22317153930664\n"
     ]
    },
    {
     "name": "stderr",
     "output_type": "stream",
     "text": [
      "Loss: 3.256057: 100%|██████████| 4/4 [00:03<00:00,  1.27it/s] \n"
     ]
    },
    {
     "name": "stdout",
     "output_type": "stream",
     "text": [
      "Epoch 7: 16.667648849487303\n"
     ]
    },
    {
     "name": "stderr",
     "output_type": "stream",
     "text": [
      "Loss: 2.587599: 100%|██████████| 4/4 [00:03<00:00,  1.27it/s] \n"
     ]
    },
    {
     "name": "stdout",
     "output_type": "stream",
     "text": [
      "Epoch 8: 16.43767837524414\n"
     ]
    },
    {
     "name": "stderr",
     "output_type": "stream",
     "text": [
      "Loss: 2.797615: 100%|██████████| 4/4 [00:03<00:00,  1.23it/s] \n"
     ]
    },
    {
     "name": "stdout",
     "output_type": "stream",
     "text": [
      "Epoch 9: 16.458509979248046\n"
     ]
    },
    {
     "name": "stderr",
     "output_type": "stream",
     "text": [
      "Loss: 2.265902: 100%|██████████| 4/4 [00:03<00:00,  1.27it/s] \n"
     ]
    },
    {
     "name": "stdout",
     "output_type": "stream",
     "text": [
      "Epoch 10: 16.299110717773438\n"
     ]
    },
    {
     "name": "stderr",
     "output_type": "stream",
     "text": [
      "Loss: 2.792804: 100%|██████████| 4/4 [00:03<00:00,  1.23it/s] \n"
     ]
    },
    {
     "name": "stdout",
     "output_type": "stream",
     "text": [
      "Epoch 11: 16.397510681152344\n"
     ]
    },
    {
     "name": "stderr",
     "output_type": "stream",
     "text": [
      "Loss: 2.385285: 100%|██████████| 4/4 [00:03<00:00,  1.29it/s] \n"
     ]
    },
    {
     "name": "stdout",
     "output_type": "stream",
     "text": [
      "Epoch 12: 16.186076202392577\n"
     ]
    },
    {
     "name": "stderr",
     "output_type": "stream",
     "text": [
      "Loss: 3.348326: 100%|██████████| 4/4 [00:03<00:00,  1.23it/s] \n"
     ]
    },
    {
     "name": "stdout",
     "output_type": "stream",
     "text": [
      "Epoch 13: 16.45537826538086\n"
     ]
    },
    {
     "name": "stderr",
     "output_type": "stream",
     "text": [
      "Loss: 2.401247: 100%|██████████| 4/4 [00:03<00:00,  1.27it/s] \n"
     ]
    },
    {
     "name": "stdout",
     "output_type": "stream",
     "text": [
      "Epoch 14: 16.204799041748046\n"
     ]
    },
    {
     "name": "stderr",
     "output_type": "stream",
     "text": [
      "Loss: 2.702006: 100%|██████████| 4/4 [00:03<00:00,  1.28it/s] \n"
     ]
    },
    {
     "name": "stdout",
     "output_type": "stream",
     "text": [
      "Epoch 15: 16.22044448852539\n"
     ]
    },
    {
     "name": "stderr",
     "output_type": "stream",
     "text": [
      "Loss: 2.272695: 100%|██████████| 4/4 [00:03<00:00,  1.26it/s] \n"
     ]
    },
    {
     "name": "stdout",
     "output_type": "stream",
     "text": [
      "Epoch 16: 16.16439910888672\n"
     ]
    },
    {
     "name": "stderr",
     "output_type": "stream",
     "text": [
      "Loss: 2.310867: 100%|██████████| 4/4 [00:03<00:00,  1.31it/s] \n"
     ]
    },
    {
     "name": "stdout",
     "output_type": "stream",
     "text": [
      "Epoch 17: 16.173522186279296\n"
     ]
    },
    {
     "name": "stderr",
     "output_type": "stream",
     "text": [
      "Loss: 2.441916: 100%|██████████| 4/4 [00:03<00:00,  1.30it/s] \n"
     ]
    },
    {
     "name": "stdout",
     "output_type": "stream",
     "text": [
      "Epoch 18: 16.211571350097657\n"
     ]
    },
    {
     "name": "stderr",
     "output_type": "stream",
     "text": [
      "Loss: 2.639336: 100%|██████████| 4/4 [00:03<00:00,  1.26it/s] \n"
     ]
    },
    {
     "name": "stdout",
     "output_type": "stream",
     "text": [
      "Epoch 19: 16.311144561767577\n"
     ]
    },
    {
     "name": "stderr",
     "output_type": "stream",
     "text": [
      "Loss: 2.778498: 100%|██████████| 4/4 [00:03<00:00,  1.26it/s] \n"
     ]
    },
    {
     "name": "stdout",
     "output_type": "stream",
     "text": [
      "Epoch 20: 16.304564361572265\n"
     ]
    },
    {
     "name": "stderr",
     "output_type": "stream",
     "text": [
      "Loss: 2.221812: 100%|██████████| 4/4 [00:03<00:00,  1.29it/s] \n"
     ]
    },
    {
     "name": "stdout",
     "output_type": "stream",
     "text": [
      "Epoch 21: 16.151142120361328\n"
     ]
    },
    {
     "name": "stderr",
     "output_type": "stream",
     "text": [
      "Loss: 2.258999: 100%|██████████| 4/4 [00:03<00:00,  1.29it/s] \n"
     ]
    },
    {
     "name": "stdout",
     "output_type": "stream",
     "text": [
      "Epoch 22: 16.14454475402832\n"
     ]
    },
    {
     "name": "stderr",
     "output_type": "stream",
     "text": [
      "Loss: 3.495021: 100%|██████████| 4/4 [00:03<00:00,  1.26it/s] \n"
     ]
    },
    {
     "name": "stdout",
     "output_type": "stream",
     "text": [
      "Epoch 23: 16.5928059387207\n"
     ]
    },
    {
     "name": "stderr",
     "output_type": "stream",
     "text": [
      "Loss: 2.123294: 100%|██████████| 4/4 [00:03<00:00,  1.23it/s] \n"
     ]
    },
    {
     "name": "stdout",
     "output_type": "stream",
     "text": [
      "Epoch 24: 16.14385353088379\n"
     ]
    },
    {
     "name": "stderr",
     "output_type": "stream",
     "text": [
      "Loss: 2.311043: 100%|██████████| 4/4 [00:03<00:00,  1.29it/s] \n"
     ]
    },
    {
     "name": "stdout",
     "output_type": "stream",
     "text": [
      "Epoch 25: 16.217200241088868\n"
     ]
    },
    {
     "name": "stderr",
     "output_type": "stream",
     "text": [
      "Loss: 2.004650: 100%|██████████| 4/4 [00:03<00:00,  1.14it/s] \n"
     ]
    },
    {
     "name": "stdout",
     "output_type": "stream",
     "text": [
      "Epoch 26: 16.11829948425293\n"
     ]
    },
    {
     "name": "stderr",
     "output_type": "stream",
     "text": [
      "Loss: 2.405215: 100%|██████████| 4/4 [00:03<00:00,  1.30it/s] \n"
     ]
    },
    {
     "name": "stdout",
     "output_type": "stream",
     "text": [
      "Epoch 27: 16.142915191650392\n"
     ]
    },
    {
     "name": "stderr",
     "output_type": "stream",
     "text": [
      "Loss: 2.408022: 100%|██████████| 4/4 [00:03<00:00,  1.23it/s] \n"
     ]
    },
    {
     "name": "stdout",
     "output_type": "stream",
     "text": [
      "Epoch 28: 16.17020751953125\n"
     ]
    },
    {
     "name": "stderr",
     "output_type": "stream",
     "text": [
      "Loss: 2.549355: 100%|██████████| 4/4 [00:03<00:00,  1.29it/s] \n"
     ]
    },
    {
     "name": "stdout",
     "output_type": "stream",
     "text": [
      "Epoch 29: 16.338079376220705\n"
     ]
    },
    {
     "name": "stderr",
     "output_type": "stream",
     "text": [
      "Loss: 2.525365: 100%|██████████| 4/4 [00:03<00:00,  1.29it/s] \n"
     ]
    },
    {
     "name": "stdout",
     "output_type": "stream",
     "text": [
      "Epoch 30: 16.283090667724608\n"
     ]
    },
    {
     "name": "stderr",
     "output_type": "stream",
     "text": [
      "Loss: 2.148853: 100%|██████████| 4/4 [00:03<00:00,  1.29it/s] \n"
     ]
    },
    {
     "name": "stdout",
     "output_type": "stream",
     "text": [
      "Epoch 31: 16.09288932800293\n"
     ]
    },
    {
     "name": "stderr",
     "output_type": "stream",
     "text": [
      "Loss: 2.562157: 100%|██████████| 4/4 [00:03<00:00,  1.24it/s] \n"
     ]
    },
    {
     "name": "stdout",
     "output_type": "stream",
     "text": [
      "Epoch 32: 16.25076316833496\n"
     ]
    },
    {
     "name": "stderr",
     "output_type": "stream",
     "text": [
      "Loss: 2.458240: 100%|██████████| 4/4 [00:03<00:00,  1.16it/s] \n"
     ]
    },
    {
     "name": "stdout",
     "output_type": "stream",
     "text": [
      "Epoch 33: 16.186597747802736\n"
     ]
    },
    {
     "name": "stderr",
     "output_type": "stream",
     "text": [
      "Loss: 3.267851: 100%|██████████| 4/4 [00:03<00:00,  1.29it/s] \n"
     ]
    },
    {
     "name": "stdout",
     "output_type": "stream",
     "text": [
      "Epoch 34: 16.507794189453126\n"
     ]
    },
    {
     "name": "stderr",
     "output_type": "stream",
     "text": [
      "Loss: 2.062511: 100%|██████████| 4/4 [00:03<00:00,  1.27it/s] \n"
     ]
    },
    {
     "name": "stdout",
     "output_type": "stream",
     "text": [
      "Epoch 35: 16.104654998779296\n"
     ]
    },
    {
     "name": "stderr",
     "output_type": "stream",
     "text": [
      "Loss: 3.037952: 100%|██████████| 4/4 [00:03<00:00,  1.29it/s] \n"
     ]
    },
    {
     "name": "stdout",
     "output_type": "stream",
     "text": [
      "Epoch 36: 16.379767456054687\n"
     ]
    },
    {
     "name": "stderr",
     "output_type": "stream",
     "text": [
      "Loss: 2.559583: 100%|██████████| 4/4 [00:03<00:00,  1.26it/s] \n"
     ]
    },
    {
     "name": "stdout",
     "output_type": "stream",
     "text": [
      "Epoch 37: 16.081427459716796\n"
     ]
    },
    {
     "name": "stderr",
     "output_type": "stream",
     "text": [
      "Loss: 2.366161: 100%|██████████| 4/4 [00:03<00:00,  1.20it/s] \n"
     ]
    },
    {
     "name": "stdout",
     "output_type": "stream",
     "text": [
      "Epoch 38: 16.103138580322266\n"
     ]
    },
    {
     "name": "stderr",
     "output_type": "stream",
     "text": [
      "Loss: 2.311278: 100%|██████████| 4/4 [00:03<00:00,  1.27it/s] \n"
     ]
    },
    {
     "name": "stdout",
     "output_type": "stream",
     "text": [
      "Epoch 39: 16.181264114379882\n"
     ]
    },
    {
     "name": "stderr",
     "output_type": "stream",
     "text": [
      "Loss: 2.354229: 100%|██████████| 4/4 [00:03<00:00,  1.22it/s] \n"
     ]
    },
    {
     "name": "stdout",
     "output_type": "stream",
     "text": [
      "Epoch 40: 16.268292236328126\n"
     ]
    },
    {
     "name": "stderr",
     "output_type": "stream",
     "text": [
      "Loss: 2.383883: 100%|██████████| 4/4 [00:03<00:00,  1.21it/s] \n"
     ]
    },
    {
     "name": "stdout",
     "output_type": "stream",
     "text": [
      "Epoch 41: 16.238540115356447\n"
     ]
    },
    {
     "name": "stderr",
     "output_type": "stream",
     "text": [
      "Loss: 2.083612: 100%|██████████| 4/4 [00:03<00:00,  1.24it/s] \n"
     ]
    },
    {
     "name": "stdout",
     "output_type": "stream",
     "text": [
      "Epoch 42: 15.954544982910157\n"
     ]
    },
    {
     "name": "stderr",
     "output_type": "stream",
     "text": [
      "Loss: 2.389446: 100%|██████████| 4/4 [00:03<00:00,  1.22it/s] \n"
     ]
    },
    {
     "name": "stdout",
     "output_type": "stream",
     "text": [
      "Epoch 43: 16.247773895263673\n"
     ]
    },
    {
     "name": "stderr",
     "output_type": "stream",
     "text": [
      "Loss: 2.466246: 100%|██████████| 4/4 [00:03<00:00,  1.16it/s] \n"
     ]
    },
    {
     "name": "stdout",
     "output_type": "stream",
     "text": [
      "Epoch 44: 16.17975112915039\n"
     ]
    },
    {
     "name": "stderr",
     "output_type": "stream",
     "text": [
      "Loss: 3.023495: 100%|██████████| 4/4 [00:03<00:00,  1.14it/s] \n"
     ]
    },
    {
     "name": "stdout",
     "output_type": "stream",
     "text": [
      "Epoch 45: 16.329405975341796\n"
     ]
    },
    {
     "name": "stderr",
     "output_type": "stream",
     "text": [
      "Loss: 2.327254: 100%|██████████| 4/4 [00:03<00:00,  1.29it/s] \n"
     ]
    },
    {
     "name": "stdout",
     "output_type": "stream",
     "text": [
      "Epoch 46: 16.07275047302246\n"
     ]
    },
    {
     "name": "stderr",
     "output_type": "stream",
     "text": [
      "Loss: 2.522507: 100%|██████████| 4/4 [00:03<00:00,  1.22it/s] \n"
     ]
    },
    {
     "name": "stdout",
     "output_type": "stream",
     "text": [
      "Epoch 47: 16.227900314331055\n"
     ]
    },
    {
     "name": "stderr",
     "output_type": "stream",
     "text": [
      "Loss: 2.221963: 100%|██████████| 4/4 [00:03<00:00,  1.23it/s] \n"
     ]
    },
    {
     "name": "stdout",
     "output_type": "stream",
     "text": [
      "Epoch 48: 16.18601707458496\n"
     ]
    },
    {
     "name": "stderr",
     "output_type": "stream",
     "text": [
      "Loss: 2.330052: 100%|██████████| 4/4 [00:03<00:00,  1.28it/s] \n"
     ]
    },
    {
     "name": "stdout",
     "output_type": "stream",
     "text": [
      "Epoch 49: 15.989646072387695\n"
     ]
    },
    {
     "name": "stderr",
     "output_type": "stream",
     "text": [
      "Loss: 2.951918: 100%|██████████| 4/4 [00:03<00:00,  1.26it/s] "
     ]
    },
    {
     "name": "stdout",
     "output_type": "stream",
     "text": [
      "Epoch 50: 16.26404685974121\n"
     ]
    },
    {
     "name": "stderr",
     "output_type": "stream",
     "text": [
      "\n"
     ]
    }
   ],
   "source": [
    "result = train_fn(\n",
    "    model,\n",
    "    train_inputs[train_indices].to(device),\n",
    "    train_outputs[train_indices].to(device),\n",
    "    loss_fn=nn.CrossEntropyLoss(reduction=\"none\"),\n",
    "    lr=1e-4,\n",
    "    epochs=50,\n",
    "    batch_size=32)"
   ]
  },
  {
   "cell_type": "code",
   "execution_count": 26,
   "metadata": {},
   "outputs": [
    {
     "data": {
      "text/plain": [
       "[<matplotlib.lines.Line2D at 0x16df3b090>]"
      ]
     },
     "execution_count": 26,
     "metadata": {},
     "output_type": "execute_result"
    },
    {
     "data": {
      "image/png": "[encoded data removed]",
      "text/plain": [
       "<Figure size 640x480 with 1 Axes>"
      ]
     },
     "metadata": {},
     "output_type": "display_data"
    }
   ],
   "source": [
    "plt.plot(result[1])"
   ]
  },
  {
   "cell_type": "code",
   "execution_count": 9,
   "metadata": {},
   "outputs": [],
   "source": [
    "# model.eval()\n",
    "\n",
    "# for name, indices, inputs, outputs in zip([\"train\", \"test\"], [train_indices, test_indices], [train_inputs, test_inputs], [train_outputs, test_outputs]):\n",
    "#     y_preds = predict_class(model, inputs[indices].to(device), batch_size=128).cpu()\n",
    "#     print(f\"{name} accuracy\", accuracy_score(outputs[indices], y_preds))"
   ]
  },
  {
   "cell_type": "code",
   "execution_count": 10,
   "metadata": {},
   "outputs": [],
   "source": [
    "# resnet = ResNet18()\n",
    "# x = torch.randn(1, 3, 32, 32)"
   ]
  },
  {
   "cell_type": "code",
   "execution_count": 11,
   "metadata": {},
   "outputs": [],
   "source": [
    "# num_layers = sum(1 for name, _ in resnet.named_children() if name.startswith('layer'))\n",
    "# print(num_layers)\n",
    "\n",
    "# out0 = resnet.layer0(x)\n",
    "# out0 = resnet.initial(x)\n",
    "# out1 = resnet.layer1(out0)\n",
    "# out2 = resnet.layer2(out1)\n",
    "# out3 = resnet.layer3(out2)\n",
    "# out4 = resnet.layer4(out3)\n",
    "# out = resnet.final(out4)\n",
    "# x = [out1,out2,out3,out4]"
   ]
  },
  {
   "cell_type": "code",
   "execution_count": 12,
   "metadata": {},
   "outputs": [],
   "source": [
    "# class LossNet(AstraModel):\n",
    "#     def __init__(self, feature_sizes=[32, 16, 8, 4], num_channels=[64, 128, 256, 512], interm_dim=128):\n",
    "#         super(LossNet, self).__init__()\n",
    "        \n",
    "#         self.GAP1 = nn.AvgPool2d(feature_sizes[0])\n",
    "#         self.GAP2 = nn.AvgPool2d(feature_sizes[1])\n",
    "#         self.GAP3 = nn.AvgPool2d(feature_sizes[2])\n",
    "#         self.GAP4 = nn.AvgPool2d(feature_sizes[3])\n",
    "\n",
    "#         self.FC1 = nn.Linear(num_channels[0], interm_dim)\n",
    "#         self.FC2 = nn.Linear(num_channels[1], interm_dim)\n",
    "#         self.FC3 = nn.Linear(num_channels[2], interm_dim)\n",
    "#         self.FC4 = nn.Linear(num_channels[3], interm_dim)\n",
    "\n",
    "#         self.linear = nn.Linear(4 * interm_dim, 1)\n",
    "    \n",
    "#     def forward(self, features):\n",
    "#         out1 = self.GAP1(features[0])\n",
    "#         out1 = out1.view(out1.size(0), -1)\n",
    "#         out1 = F.relu(self.FC1(out1))\n",
    "\n",
    "#         out2 = self.GAP2(features[1])\n",
    "#         out2 = out2.view(out2.size(0), -1)\n",
    "#         out2 = F.relu(self.FC2(out2))\n",
    "\n",
    "#         out3 = self.GAP3(features[2])\n",
    "#         out3 = out3.view(out3.size(0), -1)\n",
    "#         out3 = F.relu(self.FC3(out3))\n",
    "\n",
    "#         out4 = self.GAP4(features[3])\n",
    "#         out4 = out4.view(out4.size(0), -1)\n",
    "#         out4 = F.relu(self.FC4(out4))\n",
    "\n",
    "#         out = self.linear(torch.cat((out1, out2, out3, out4), 1))\n",
    "#         return out"
   ]
  },
  {
   "cell_type": "code",
   "execution_count": 13,
   "metadata": {},
   "outputs": [],
   "source": [
    "# model = ResNet18().to(device)\n",
    "\n",
    "# result = train_fn(\n",
    "#     model,\n",
    "#     train_inputs[train_indices].to(device),\n",
    "#     train_outputs[train_indices].to(device),\n",
    "#     loss_fn=nn.CrossEntropyLoss(),\n",
    "#     lr=1e-4,\n",
    "#     epochs=50,\n",
    "#     batch_size=32,)"
   ]
  },
  {
   "cell_type": "code",
   "execution_count": 14,
   "metadata": {},
   "outputs": [],
   "source": [
    "# class BasicBlock(nn.Module):\n",
    "#     expansion = 1\n",
    "\n",
    "#     def __init__(self, in_planes, planes, stride=1):\n",
    "#         super(BasicBlock, self).__init__()\n",
    "#         self.conv1 = nn.Conv2d(in_planes, planes, kernel_size=3, stride=stride, padding=1, bias=False)\n",
    "#         self.bn1 = nn.BatchNorm2d(planes)\n",
    "#         self.conv2 = nn.Conv2d(planes, planes, kernel_size=3, stride=1, padding=1, bias=False)\n",
    "#         self.bn2 = nn.BatchNorm2d(planes)\n",
    "\n",
    "#         self.shortcut = nn.Sequential()\n",
    "#         if stride != 1 or in_planes != self.expansion*planes:\n",
    "#             self.shortcut = nn.Sequential(\n",
    "#                 nn.Conv2d(in_planes, self.expansion*planes, kernel_size=1, stride=stride, bias=False),\n",
    "#                 nn.BatchNorm2d(self.expansion*planes)\n",
    "#             )\n",
    "\n",
    "#     def forward(self, x):\n",
    "#         out = F.relu(self.bn1(self.conv1(x)))\n",
    "#         out = self.bn2(self.conv2(out))\n",
    "#         out += self.shortcut(x)\n",
    "#         out = F.relu(out)\n",
    "#         return out"
   ]
  },
  {
   "cell_type": "code",
   "execution_count": 15,
   "metadata": {},
   "outputs": [],
   "source": [
    "# result = train_fn(\n",
    "#     model,\n",
    "#     train_inputs[train_indices].to(device),\n",
    "#     train_outputs[train_indices].to(device),\n",
    "#     loss_fn=nn.CrossEntropyLoss(),\n",
    "#     lr=1e-4,\n",
    "#     n_epochs=50,\n",
    "#     batch_size=32,\n",
    "#     enable_tqdm=True,  # Use tqdm for progress bar\n",
    "# )"
   ]
  },
  {
   "cell_type": "code",
   "execution_count": 16,
   "metadata": {},
   "outputs": [],
   "source": [
    "# model = EfficientNet(\n",
    "#     efficientnet_b0, EfficientNet_B0_Weights.DEFAULT, output_dim=10\n",
    "# ).to(device)\n",
    "\n",
    "# result = train_fn(\n",
    "#     model,\n",
    "#     train_inputs[train_indices].to(device),\n",
    "#     train_outputs[train_indices].to(device),\n",
    "#     loss_fn=nn.CrossEntropyLoss(),\n",
    "#     lr=1e-4,\n",
    "#     n_epochs=50,\n",
    "#     batch_size=32,\n",
    "#     enable_tqdm=True,  # Use tqdm for progress bar\n",
    "# )"
   ]
  },
  {
   "cell_type": "code",
   "execution_count": 17,
   "metadata": {},
   "outputs": [],
   "source": [
    "# plt.plot(result[\"iter_losses\"])"
   ]
  },
  {
   "cell_type": "code",
   "execution_count": 18,
   "metadata": {},
   "outputs": [],
   "source": [
    "# model.eval()\n",
    "\n",
    "# for name, indices, inputs, outputs in zip([\"train\", \"test\"], [train_indices, test_indices], [train_inputs, test_inputs], [train_outputs, test_outputs]):\n",
    "#     y_preds = predict_class(model, inputs[indices].to(device), batch_size=128).cpu()\n",
    "#     print(f\"{name} accuracy\", accuracy_score(outputs[indices], y_preds))"
   ]
  },
  {
   "cell_type": "markdown",
   "metadata": {},
   "source": [
    "### Fitted on train + pool"
   ]
  },
  {
   "cell_type": "code",
   "execution_count": 19,
   "metadata": {},
   "outputs": [],
   "source": [
    "# model = EfficientNet(\n",
    "#     efficientnet_b0, EfficientNet_B0_Weights.DEFAULT, output_dim=10\n",
    "# ).to(device)\n",
    "# # model = CNN(224, 5, 3, [16, 32, 64, 128, 256], [512], 10, activation=nn.ReLU(), dropout=0.0).to(device)\n",
    "\n",
    "# result = train_fn(\n",
    "#     model,\n",
    "#     train_inputs.to(device),\n",
    "#     train_outputs.to(device),\n",
    "#     loss_fn=nn.CrossEntropyLoss(),\n",
    "#     lr=1e-4,\n",
    "#     n_epochs=2,\n",
    "#     batch_size=32,\n",
    "#     enable_tqdm=True,  # Use tqdm for progress bar\n",
    "# )"
   ]
  },
  {
   "cell_type": "code",
   "execution_count": 20,
   "metadata": {},
   "outputs": [],
   "source": [
    "# plt.plot(result[\"iter_losses\"])"
   ]
  },
  {
   "cell_type": "code",
   "execution_count": 21,
   "metadata": {},
   "outputs": [],
   "source": [
    "# model.eval()\n",
    "\n",
    "# for name, indices, inputs, outputs in zip([\"train\", \"test\"], [torch.cat([train_indices, pool_indices]), test_indices], [train_inputs, test_inputs], [train_outputs, test_outputs]):\n",
    "#     y_preds = predict_class(model, inputs[indices].to(device), batch_size=128).cpu()\n",
    "#     print(f\"{name} accuracy\", accuracy_score(outputs[indices], y_preds))"
   ]
  },
  {
   "cell_type": "markdown",
   "metadata": {},
   "source": [
    "## Active Learning"
   ]
  },
  {
   "cell_type": "code",
   "execution_count": 22,
   "metadata": {},
   "outputs": [
    {
     "ename": "TypeError",
     "evalue": "EfficientNet.__init__() got an unexpected keyword argument 'output_dim'",
     "output_type": "error",
     "traceback": [
      "\u001b[0;31m---------------------------------------------------------------------------\u001b[0m",
      "\u001b[0;31mTypeError\u001b[0m                                 Traceback (most recent call last)",
      "Cell \u001b[0;32mIn[22], line 7\u001b[0m\n\u001b[1;32m      4\u001b[0m inputs \u001b[38;5;241m=\u001b[39m train_inputs[train_indices]\u001b[38;5;241m.\u001b[39mto(device)\n\u001b[1;32m      5\u001b[0m outputs \u001b[38;5;241m=\u001b[39m train_outputs[train_indices]\u001b[38;5;241m.\u001b[39mto(device)\n\u001b[0;32m----> 7\u001b[0m model \u001b[38;5;241m=\u001b[39m \u001b[43mEfficientNet\u001b[49m\u001b[43m(\u001b[49m\n\u001b[1;32m      8\u001b[0m \u001b[43m    \u001b[49m\u001b[43mefficientnet_b0\u001b[49m\u001b[43m,\u001b[49m\u001b[43m \u001b[49m\u001b[43mEfficientNet_B0_Weights\u001b[49m\u001b[38;5;241;43m.\u001b[39;49m\u001b[43mDEFAULT\u001b[49m\u001b[43m,\u001b[49m\u001b[43m \u001b[49m\u001b[43moutput_dim\u001b[49m\u001b[38;5;241;43m=\u001b[39;49m\u001b[38;5;241;43m10\u001b[39;49m\n\u001b[1;32m      9\u001b[0m \u001b[43m)\u001b[49m\u001b[38;5;241m.\u001b[39mto(device)\n\u001b[1;32m     11\u001b[0m result \u001b[38;5;241m=\u001b[39m train_fn(\n\u001b[1;32m     12\u001b[0m     model,\n\u001b[1;32m     13\u001b[0m     inputs,\n\u001b[0;32m   (...)\u001b[0m\n\u001b[1;32m     19\u001b[0m     enable_tqdm\u001b[38;5;241m=\u001b[39m\u001b[38;5;28;01mTrue\u001b[39;00m,  \u001b[38;5;66;03m# Use tqdm for progress bar\u001b[39;00m\n\u001b[1;32m     20\u001b[0m )\n\u001b[1;32m     22\u001b[0m acquisition \u001b[38;5;241m=\u001b[39m RandomAcquisition()\n",
      "\u001b[0;31mTypeError\u001b[0m: EfficientNet.__init__() got an unexpected keyword argument 'output_dim'"
     ]
    }
   ],
   "source": [
    "al_iterations = 10\n",
    "n_query_samples = 20\n",
    "\n",
    "inputs = train_inputs[train_indices].to(device)\n",
    "outputs = train_outputs[train_indices].to(device)\n",
    "\n",
    "model = EfficientNet(\n",
    "    efficientnet_b0, EfficientNet_B0_Weights.DEFAULT, output_dim=10\n",
    ").to(device)\n",
    "\n",
    "result = train_fn(\n",
    "    model,\n",
    "    inputs,\n",
    "    outputs,\n",
    "    loss_fn=nn.CrossEntropyLoss(),\n",
    "    lr=1e-4,\n",
    "    n_epochs=30,\n",
    "    batch_size=64,\n",
    "    enable_tqdm=True,  # Use tqdm for progress bar\n",
    ")\n",
    "\n",
    "acquisition = RandomAcquisition()\n",
    "strategy = RandomStrategy(acquisition, train_inputs, train_outputs)\n",
    "\n",
    "queried_indices = torch.tensor([], dtype=torch.long)\n",
    "test_accuracy = []\n",
    "train_accuracy = []\n",
    "train_loss = []\n",
    "for iteration in range(al_iterations):\n",
    "    # Query samples to be annotated\n",
    "    result = strategy.query(model, pool_indices=pool_indices, batch_size=64, n_query_samples=n_query_samples)\n",
    "    indices = result[\"RandomAcquisition\"]\n",
    "    \n",
    "    # Update indices\n",
    "    queried_indices = torch.cat([queried_indices, indices])\n",
    "    pool_indices = np.setdiff1d(pool_indices.numpy(), indices.numpy())\n",
    "    pool_indices = torch.from_numpy(pool_indices).long()\n",
    "    \n",
    "    # New inputs\n",
    "    inputs = train_inputs[torch.cat([train_indices, queried_indices])].to(device)\n",
    "    outputs = train_outputs[torch.cat([train_indices, queried_indices])].to(device)\n",
    "    \n",
    "    # Fine-tune model\n",
    "    result = train_fn(\n",
    "        model,\n",
    "        inputs,\n",
    "        outputs,\n",
    "        loss_fn=nn.CrossEntropyLoss(),\n",
    "        lr=1e-4,\n",
    "        n_epochs=5,\n",
    "        batch_size=64,\n",
    "        enable_tqdm=True,  # Use tqdm for progress bar\n",
    "    )\n",
    "    \n",
    "    train_loss.append(result[\"epoch_losses\"][-1])\n",
    "    \n",
    "    # Train accuracy\n",
    "    y_preds = predict_class(model, inputs, batch_size=128).cpu()\n",
    "    train_accuracy.append(accuracy_score(outputs.cpu(), y_preds))\n",
    "    \n",
    "    # Test accuracy\n",
    "    y_preds = predict_class(model, test_inputs[test_indices].to(device), batch_size=128).cpu()\n",
    "    test_accuracy.append(accuracy_score(test_outputs[test_indices], y_preds))\n",
    "    \n",
    "    print(f\"AL iteration {iteration}. {len(queried_indices)} samples queried. Test accuracy {test_accuracy[-1]}\")"
   ]
  },
  {
   "cell_type": "code",
   "execution_count": null,
   "metadata": {},
   "outputs": [
    {
     "data": {
      "text/plain": [
       "<matplotlib.legend.Legend at 0x7f89274b2cd0>"
      ]
     },
     "execution_count": 12,
     "metadata": {},
     "output_type": "execute_result"
    },
    {
     "data": {
      "image/png": "[encoded data removed]",
      "text/plain": [
       "<Figure size 640x480 with 1 Axes>"
      ]
     },
     "metadata": {},
     "output_type": "display_data"
    },
    {
     "data": {
      "image/png": "[encoded data removed]",
      "text/plain": [
       "<Figure size 640x480 with 1 Axes>"
      ]
     },
     "metadata": {},
     "output_type": "display_data"
    }
   ],
   "source": [
    "plt.plot(train_accuracy, label=\"train_accuracy\", color=\"C1\")\n",
    "plt.plot(test_accuracy, label=\"test_accuracy\", color=\"C2\")\n",
    "plt.xlabel(\"AL iterations\")\n",
    "plt.ylabel(\"Accuracy\")\n",
    "plt.legend(bbox_to_anchor=(1, 1))\n",
    "\n",
    "plt.figure()\n",
    "plt.plot(train_loss, label=\"train_loss\", color=\"C3\")\n",
    "plt.ylabel(\"Loss\", color=\"C3\")\n",
    "plt.xlabel(\"AL iterations\")\n",
    "plt.legend()"
   ]
  }
 ],
 "metadata": {
  "kernelspec": {
   "display_name": "torch_gpu_py311",
   "language": "python",
   "name": "python3"
  },
  "language_info": {
   "codemirror_mode": {
    "name": "ipython",
    "version": 3
   },
   "file_extension": ".py",
   "mimetype": "text/x-python",
   "name": "python",
   "nbconvert_exporter": "python",
   "pygments_lexer": "ipython3",
   "version": "3.11.5"
  }
 },
 "nbformat": 4,
 "nbformat_minor": 2
}
